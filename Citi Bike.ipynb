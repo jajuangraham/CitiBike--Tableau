{
 "cells": [
  {
   "cell_type": "code",
   "execution_count": 53,
   "id": "ddefc7ca",
   "metadata": {},
   "outputs": [],
   "source": [
    "import pandas as pd"
   ]
  },
  {
   "cell_type": "code",
   "execution_count": null,
   "id": "13a9c66d",
   "metadata": {},
   "outputs": [],
   "source": [
    "#\"/Users/JaWook/Desktop/UCI-VIRT-DATA-PT-12-2024-U-LOLC-MWTH/02-Homework/18-Tableau/Data/ File paths for local usage\n",
    "file_1 = 202402-citibike-tripdata.csv\"\n",
    "file_2 = \"/Users/JaWook/Desktop/UCI-VIRT-DATA-PT-12-2024-U-LOLC-MWTH/02-Homework/18-Tableau/Data/202407-citibike-tripdata_1.csv\"\n"
   ]
  },
  {
   "cell_type": "code",
   "execution_count": 55,
   "id": "55922c22",
   "metadata": {},
   "outputs": [
    {
     "name": "stderr",
     "output_type": "stream",
     "text": [
      "/var/folders/j5/k10__xzx4vg4137jr9wwfprm0000gp/T/ipykernel_25855/4292383543.py:2: DtypeWarning: Columns (5,7) have mixed types. Specify dtype option on import or set low_memory=False.\n",
      "  df1 = pd.read_csv(file_1)\n",
      "/var/folders/j5/k10__xzx4vg4137jr9wwfprm0000gp/T/ipykernel_25855/4292383543.py:3: DtypeWarning: Columns (8) have mixed types. Specify dtype option on import or set low_memory=False.\n",
      "  df2 = pd.read_csv(file_2)\n"
     ]
    }
   ],
   "source": [
    "# Load datasets\n",
    "df1 = pd.read_csv(file_1)\n",
    "df2 = pd.read_csv(file_2)"
   ]
  },
  {
   "cell_type": "code",
   "execution_count": 56,
   "id": "4e018104",
   "metadata": {},
   "outputs": [],
   "source": [
    "# Clean df2: drop Unnamed columns and fill missing station info\n",
    "df2 = df2.loc[:, ~df2.columns.str.contains(\"^Unnamed\")]\n",
    "df2['end_station_id'] = df2['end_station_id'].fillna('unknown')\n",
    "df2['end_station_name'] = df2['end_station_name'].fillna('unknown')\n"
   ]
  },
  {
   "cell_type": "code",
   "execution_count": 57,
   "id": "5363246a",
   "metadata": {},
   "outputs": [],
   "source": [
    "# Standardize and clean both datasets\n",
    "def clean_and_prepare(df):\n",
    "    df = df.rename(columns={\n",
    "        'start_station_id': 'start_station_id',\n",
    "        'start_station_name': 'start_name',\n",
    "        'start_lat': 'start_latitude',\n",
    "        'start_lng': 'start_longitude',\n",
    "        'end_station_id': 'end_station_id',\n",
    "        'end_station_name': 'end_name',\n",
    "        'end_lat': 'end_latitude',\n",
    "        'end_lng': 'end_longitude'\n",
    "    })\n",
    "    df['started_at'] = pd.to_datetime(df['started_at'], errors='coerce')\n",
    "    df['ended_at'] = pd.to_datetime(df['ended_at'], errors='coerce')\n",
    "    df['trip_length'] = (df['ended_at'] - df['started_at']).dt.total_seconds() / 60\n",
    "    df = df[df['trip_length'] >= 1]\n",
    "    df['start_day'] = df['started_at'].dt.day_name()\n",
    "    df['end_day'] = df['ended_at'].dt.day_name()\n",
    "    for col in ['start_latitude', 'start_longitude', 'end_latitude', 'end_longitude']:\n",
    "        df[col] = pd.to_numeric(df[col], errors='coerce')\n",
    "    return df\n",
    "\n",
    "df1_clean = clean_and_prepare(df1)\n",
    "df2_clean = clean_and_prepare(df2)\n"
   ]
  },
  {
   "cell_type": "code",
   "execution_count": 58,
   "id": "9b509f71",
   "metadata": {},
   "outputs": [],
   "source": [
    "# Sample 250 from each and combine\n",
    "df1_sample = df1_clean.sample(n=250, random_state=1)\n",
    "df2_sample = df2_clean.sample(n=250, random_state=2)\n",
    "combined_df = pd.concat([df1_sample, df2_sample], ignore_index=True)\n"
   ]
  },
  {
   "cell_type": "code",
   "execution_count": 61,
   "id": "aee4de61",
   "metadata": {},
   "outputs": [],
   "source": [
    "# Export to CSV\n",
    "output_path = \"/Users/JaWook/Desktop/UCI-VIRT-DATA-PT-12-2024-U-LOLC-MWTH/02-Homework/18-Tableau/Data/cleaned_combined_citibike.csv\"\n",
    "combined_df.to_csv(output_path, index=False)"
   ]
  },
  {
   "cell_type": "code",
   "execution_count": 62,
   "id": "ea021592",
   "metadata": {},
   "outputs": [
    {
     "name": "stdout",
     "output_type": "stream",
     "text": [
      "✅ Combined dataset saved to: /Users/JaWook/Desktop/UCI-VIRT-DATA-PT-12-2024-U-LOLC-MWTH/02-Homework/18-Tableau/Data/cleaned_combined_citibike.csv\n",
      "            ride_id  rideable_type              started_at  \\\n",
      "0  C75F0BC5707A87B0   classic_bike 2024-02-02 19:18:33.830   \n",
      "1  8108C3D4E2AFD5BD  electric_bike 2024-02-09 18:09:24.268   \n",
      "2  9094D2A3710985F4   classic_bike 2024-02-16 17:46:02.744   \n",
      "3  D254BB55D9197151  electric_bike 2024-02-11 17:54:56.244   \n",
      "4  B7B41EC37D6C6879  electric_bike 2024-02-02 20:43:38.670   \n",
      "\n",
      "                 ended_at                  start_name start_station_id  \\\n",
      "0 2024-02-02 19:25:14.768  Bergen St & Vanderbilt Ave          4157.10   \n",
      "1 2024-02-09 18:12:09.967             1 Ave & E 94 St          7286.05   \n",
      "2 2024-02-16 17:51:26.530             E 15 St & 3 Ave          5863.07   \n",
      "3 2024-02-11 18:08:31.419             E 12 St & Ave C          5616.08   \n",
      "4 2024-02-02 20:48:20.143              E 1 St & 1 Ave          5593.01   \n",
      "\n",
      "                     end_name end_station_id  start_latitude  start_longitude  \\\n",
      "0  Underhill Ave & Lincoln Pl        4042.08       40.679439       -73.968044   \n",
      "1             E 97 St & 3 Ave        7365.08       40.781657       -73.945986   \n",
      "2          Broadway & E 21 St        6098.10       40.734232       -73.986923   \n",
      "3          Carmine St & 6 Ave        5763.03       40.727215       -73.977030   \n",
      "4  E Houston St & Columbia St        5436.11       40.723402       -73.988764   \n",
      "\n",
      "   end_latitude  end_longitude member_casual  trip_length start_day end_day  \n",
      "0     40.674012     -73.967146        member     6.682300    Friday  Friday  \n",
      "1     40.785920     -73.948603        casual     2.761650    Friday  Friday  \n",
      "2     40.739888     -73.989586        member     5.396433    Friday  Friday  \n",
      "3     40.730386     -74.002150        member    13.586250    Sunday  Sunday  \n",
      "4     40.719786     -73.978716        member     4.691217    Friday  Friday  \n"
     ]
    }
   ],
   "source": [
    "# Optional: print preview\n",
    "print(\"✅ Combined dataset saved to:\", output_path)\n",
    "print(combined_df.head())\n"
   ]
  }
 ],
 "metadata": {
  "kernelspec": {
   "display_name": "base",
   "language": "python",
   "name": "python3"
  },
  "language_info": {
   "codemirror_mode": {
    "name": "ipython",
    "version": 3
   },
   "file_extension": ".py",
   "mimetype": "text/x-python",
   "name": "python",
   "nbconvert_exporter": "python",
   "pygments_lexer": "ipython3",
   "version": "3.12.7"
  }
 },
 "nbformat": 4,
 "nbformat_minor": 5
}
